{
 "cells": [
  {
   "cell_type": "code",
   "execution_count": 2,
   "metadata": {},
   "outputs": [
    {
     "output_type": "stream",
     "name": "stdout",
     "text": "Requirement already satisfied: nest_asyncio in /Users/joyious/opt/anaconda3/lib/python3.7/site-packages (1.3.3)\n"
    }
   ],
   "source": [
    "!pip install nest_asyncio\n",
    "import nest_asyncio\n",
    "nest_asyncio.apply()\n",
    "\n",
    "import motor.motor_asyncio\n",
    "import asyncio\n",
    "\n",
    "client = motor.motor_asyncio.AsyncIOMotorClient(host='mongo', port=27017, username='user', password='abc@123')\n",
    "db = client.test\n",
    "\n",
    "async def insert_vote(document):\n",
    "    result = await db.votes.insert_one(document)\n",
    "    print('Vote was inserted at %s' % repr(result.inserted_id))"
   ]
  },
  {
   "cell_type": "code",
   "execution_count": 7,
   "metadata": {},
   "outputs": [
    {
     "output_type": "stream",
     "name": "stdout",
     "text": "Vote was inserted at ObjectId('5ebe0bf3500a64b7bd48aaa8')\n"
    }
   ],
   "source": [
    "vote = {\n",
    "    \"contract_address\": \"0xd8E668C477777c76565382b09eE26546b6E3fbbb\",\n",
    "    \"vote_title\" : \"dForce Governance Call\",\n",
    "    \"Description\" : \"We have identified three key concerns with DAI and would like to implement a governance poll through voting system. Three key concerns are respectively stability issue, complexities of MCD, and high friction of trading DAI.\",\n",
    "    \"more\" : \"http://127.0.0.1:32767/start.html#p=vote&g=1\",\n",
    "    \"title\" : \"Removing DAI from the basket of USDx?\",\n",
    "    \"options\" : [\n",
    "        \"YES: remove DAI from the constituents\",\n",
    "        \"NO: keep DAI in the constituents\",\n",
    "        \"IDONTCARE:\"],\n",
    "    \"remark\" : \"\"\n",
    "}\n",
    "\n",
    "loop = asyncio.get_event_loop()\n",
    "loop.run_until_complete(insert_vote(vote))"
   ]
  },
  {
   "cell_type": "code",
   "execution_count": null,
   "metadata": {},
   "outputs": [],
   "source": []
  }
 ],
 "metadata": {
  "kernelspec": {
   "display_name": "Python 3",
   "language": "python",
   "name": "python3"
  },
  "language_info": {
   "name": "",
   "version": "3.7.6-final"
  }
 },
 "nbformat": 4,
 "nbformat_minor": 4
}