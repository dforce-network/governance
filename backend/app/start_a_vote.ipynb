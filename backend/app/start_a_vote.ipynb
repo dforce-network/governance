{
 "cells": [
  {
   "cell_type": "code",
   "execution_count": 3,
   "metadata": {},
   "outputs": [
    {
     "name": "stdout",
     "output_type": "stream",
     "text": [
      "Requirement already satisfied: nest_asyncio in /usr/local/lib/python3.8/site-packages (1.3.3)\n",
      "Vote was inserted at ObjectId('5ec2279b811fe7e257ffef53')\n"
     ]
    }
   ],
   "source": [
    "!pip install nest_asyncio\n",
    "import nest_asyncio\n",
    "nest_asyncio.apply()\n",
    "\n",
    "import motor.motor_asyncio\n",
    "import asyncio\n",
    "\n",
    "client = motor.motor_asyncio.AsyncIOMotorClient(host='mongo', port=27017, username='user', password='abc@123')\n",
    "db = client.test\n",
    "\n",
    "async def insert_vote(document):\n",
    "    result = await db.votes.insert_one(document)\n",
    "    print('Vote was inserted at %s' % repr(result.inserted_id))\n",
    "  \n",
    "vote = {\n",
    "    \"contract_address\": \"0xd8E668C477777c76565382b09eE26546b6E3fbbb\",\n",
    "    \"vote_title\" : \"dForce Governance Call\",\n",
    "    \"Description\" : \"We have identified three key concerns with DAI and would like to implement a governance poll through voting system. Three key concerns are respectively stability issue, complexities of MCD, and high friction of trading DAI.\",\n",
    "    \"more\" : \"http://127.0.0.1:32767/start.html#p=vote&g=1\",\n",
    "    \"title\" : \"Removing DAI from the basket of USDx?\",\n",
    "    \"options\" : [\n",
    "        \"YES: remove DAI from the constituents\",\n",
    "        \"NO: keep DAI in the constituents\",\n",
    "        \"IDONTCARE:\"],\n",
    "    \"remark\" : \"\"\n",
    "}\n",
    "\n",
    "loop = asyncio.get_event_loop()\n",
    "loop.run_until_complete(insert_vote(vote))\n"
   ]
  }
 ],
 "metadata": {
  "kernelspec": {
   "display_name": "Python 3",
   "language": "python",
   "name": "python3"
  },
  "language_info": {
   "codemirror_mode": {
    "name": "ipython",
    "version": 3
   },
   "file_extension": ".py",
   "mimetype": "text/x-python",
   "name": "python",
   "nbconvert_exporter": "python",
   "pygments_lexer": "ipython3",
   "version": "3.8.2"
  }
 },
 "nbformat": 4,
 "nbformat_minor": 4
}
